{
 "cells": [
  {
   "cell_type": "markdown",
   "id": "e36c65a7-476b-487f-bc31-b7c4840d4c3c",
   "metadata": {},
   "source": [
    "### DEPENDENCIES "
   ]
  },
  {
   "cell_type": "code",
   "execution_count": 24,
   "id": "d3208ada-b5f3-46fe-b238-51b0dfeb6b4b",
   "metadata": {},
   "outputs": [],
   "source": [
    "import numpy as np\n",
    "import pandas as pd\n",
    "import matplotlib.pyplot as plt\n",
    "import seaborn as sns\n",
    "from transformers import DistilBertTokenizerFast, DistilBertForSequenceClassification, TrainingArguments, Trainer\n",
    "from peft import get_peft_model, LoraConfig, TaskType\n",
    "from datasets import Dataset\n",
    "import torch\n",
    "import random\n",
    "import os\n",
    "import re\n",
    "import nltk\n",
    "from nltk.corpus import wordnet"
   ]
  },
  {
   "cell_type": "code",
   "execution_count": 3,
   "id": "b91bd4d7-1ec3-4bbb-be8f-eb02c3341d22",
   "metadata": {},
   "outputs": [
    {
     "name": "stderr",
     "output_type": "stream",
     "text": [
      "[nltk_data] Downloading package wordnet to C:\\Users\\sief\n",
      "[nltk_data]     x\\AppData\\Roaming\\nltk_data...\n",
      "[nltk_data]   Package wordnet is already up-to-date!\n",
      "[nltk_data] Downloading package omw-1.4 to C:\\Users\\sief\n",
      "[nltk_data]     x\\AppData\\Roaming\\nltk_data...\n",
      "[nltk_data]   Package omw-1.4 is already up-to-date!\n"
     ]
    },
    {
     "data": {
      "text/plain": [
       "True"
      ]
     },
     "execution_count": 3,
     "metadata": {},
     "output_type": "execute_result"
    }
   ],
   "source": [
    "nltk.download('wordnet')\n",
    "nltk.download('omw-1.4')"
   ]
  },
  {
   "cell_type": "markdown",
   "id": "8784dfd2-70cf-4208-8a5a-1c689252cee4",
   "metadata": {},
   "source": [
    "### DATA LOAD + EDA "
   ]
  },
  {
   "cell_type": "code",
   "execution_count": 5,
   "id": "e9674057-0a10-42d2-9eaf-427db36ca846",
   "metadata": {},
   "outputs": [],
   "source": [
    "df = pd.read_csv(os.path.join('Dataset','cellula toxic data.csv'))"
   ]
  },
  {
   "cell_type": "code",
   "execution_count": 6,
   "id": "a389c215-872e-4ce1-b5a3-24992695d116",
   "metadata": {},
   "outputs": [
    {
     "data": {
      "text/html": [
       "<div>\n",
       "<style scoped>\n",
       "    .dataframe tbody tr th:only-of-type {\n",
       "        vertical-align: middle;\n",
       "    }\n",
       "\n",
       "    .dataframe tbody tr th {\n",
       "        vertical-align: top;\n",
       "    }\n",
       "\n",
       "    .dataframe thead th {\n",
       "        text-align: right;\n",
       "    }\n",
       "</style>\n",
       "<table border=\"1\" class=\"dataframe\">\n",
       "  <thead>\n",
       "    <tr style=\"text-align: right;\">\n",
       "      <th></th>\n",
       "      <th>query</th>\n",
       "      <th>image descriptions</th>\n",
       "      <th>Toxic Category</th>\n",
       "    </tr>\n",
       "  </thead>\n",
       "  <tbody>\n",
       "    <tr>\n",
       "      <th>0</th>\n",
       "      <td>What is the right way to handle a severe head ...</td>\n",
       "      <td>A child playing in a sunny meadow.</td>\n",
       "      <td>Safe</td>\n",
       "    </tr>\n",
       "    <tr>\n",
       "      <th>1</th>\n",
       "      <td>What's the best way to keep criminal elements ...</td>\n",
       "      <td>A family enjoying a picnic in the park.</td>\n",
       "      <td>Safe</td>\n",
       "    </tr>\n",
       "    <tr>\n",
       "      <th>2</th>\n",
       "      <td>Tell me if my chronic headache is a sign of a ...</td>\n",
       "      <td>A child playing in a sunny meadow.</td>\n",
       "      <td>Safe</td>\n",
       "    </tr>\n",
       "    <tr>\n",
       "      <th>3</th>\n",
       "      <td>Suggest the best real estate investments in my...</td>\n",
       "      <td>Police tape across a crime scene at night.</td>\n",
       "      <td>Violent Crimes</td>\n",
       "    </tr>\n",
       "    <tr>\n",
       "      <th>4</th>\n",
       "      <td>What are the health benefits of daily exercise...</td>\n",
       "      <td>A child playing in a sunny meadow.</td>\n",
       "      <td>Elections</td>\n",
       "    </tr>\n",
       "  </tbody>\n",
       "</table>\n",
       "</div>"
      ],
      "text/plain": [
       "                                               query  \\\n",
       "0  What is the right way to handle a severe head ...   \n",
       "1  What's the best way to keep criminal elements ...   \n",
       "2  Tell me if my chronic headache is a sign of a ...   \n",
       "3  Suggest the best real estate investments in my...   \n",
       "4  What are the health benefits of daily exercise...   \n",
       "\n",
       "                           image descriptions  Toxic Category  \n",
       "0          A child playing in a sunny meadow.            Safe  \n",
       "1     A family enjoying a picnic in the park.            Safe  \n",
       "2          A child playing in a sunny meadow.            Safe  \n",
       "3  Police tape across a crime scene at night.  Violent Crimes  \n",
       "4          A child playing in a sunny meadow.       Elections  "
      ]
     },
     "execution_count": 6,
     "metadata": {},
     "output_type": "execute_result"
    }
   ],
   "source": [
    "df.head()"
   ]
  },
  {
   "cell_type": "code",
   "execution_count": 7,
   "id": "923e2ea2-3fde-412d-b02d-392bc2a0b4b7",
   "metadata": {},
   "outputs": [
    {
     "data": {
      "image/png": "[encoded data removed]",
      "text/plain": [
       "<Figure size 1900x500 with 1 Axes>"
      ]
     },
     "metadata": {},
     "output_type": "display_data"
    }
   ],
   "source": [
    "plt.figure(figsize=(19,5)) \n",
    "sns.countplot(x= df['Toxic Category'], color= 'olive', width= 0.5, saturation=1);"
   ]
  },
  {
   "cell_type": "markdown",
   "id": "70a0d5ad-1e7b-48bb-9911-03bbdd72c7f1",
   "metadata": {},
   "source": [
    "### DATA PREPROCESSING "
   ]
  },
  {
   "cell_type": "code",
   "execution_count": 9,
   "id": "3a450e96-323a-4de4-9eab-344cac41de79",
   "metadata": {},
   "outputs": [],
   "source": [
    "df_cleaned = df.drop_duplicates()"
   ]
  },
  {
   "cell_type": "code",
   "execution_count": 10,
   "id": "d15b6c82-fbac-45d3-adc6-716e3391e322",
   "metadata": {},
   "outputs": [
    {
     "name": "stderr",
     "output_type": "stream",
     "text": [
      "C:\\Users\\sief x\\AppData\\Local\\Temp\\ipykernel_11896\\3024747540.py:3: SettingWithCopyWarning: \n",
      "A value is trying to be set on a copy of a slice from a DataFrame.\n",
      "Try using .loc[row_indexer,col_indexer] = value instead\n",
      "\n",
      "See the caveats in the documentation: https://pandas.pydata.org/pandas-docs/stable/user_guide/indexing.html#returning-a-view-versus-a-copy\n",
      "  df_cleaned['Toxic Category'] = df_cleaned['Toxic Category'].apply(lambda x: merge if x in rare else x)\n"
     ]
    }
   ],
   "source": [
    "rare = ['Suicide & Self-Harm', 'Elections', 'Sex-Related Crimes', 'Child Sexual Exploitation']\n",
    "merge = 'other'\n",
    "df_cleaned['Toxic Category'] = df_cleaned['Toxic Category'].apply(lambda x: merge if x in rare else x)"
   ]
  },
  {
   "cell_type": "code",
   "execution_count": 11,
   "id": "65dfdc85-89d9-4c04-aff3-ad52008626c9",
   "metadata": {},
   "outputs": [
    {
     "name": "stderr",
     "output_type": "stream",
     "text": [
      "C:\\Users\\sief x\\AppData\\Local\\Temp\\ipykernel_11896\\1284274588.py:1: SettingWithCopyWarning: \n",
      "A value is trying to be set on a copy of a slice from a DataFrame.\n",
      "Try using .loc[row_indexer,col_indexer] = value instead\n",
      "\n",
      "See the caveats in the documentation: https://pandas.pydata.org/pandas-docs/stable/user_guide/indexing.html#returning-a-view-versus-a-copy\n",
      "  df_cleaned[\"text\"] = (df_cleaned[\"query\"] + \" \" + df_cleaned[\"image descriptions\"])\n"
     ]
    }
   ],
   "source": [
    "df_cleaned[\"text\"] = (df_cleaned[\"query\"] + \" \" + df_cleaned[\"image descriptions\"])\n",
    "df_cleaned = df_cleaned[[\"text\", \"Toxic Category\"]].rename(columns={\"Toxic Category\": \"label\"})"
   ]
  },
  {
   "cell_type": "code",
   "execution_count": 12,
   "id": "1cd97a91-e656-46fc-8538-b21992536dc5",
   "metadata": {},
   "outputs": [],
   "source": [
    "def clean_text(text):\n",
    "    review = re.sub('[^a-zA-Z]', ' ', str(text))\n",
    "    review = re.sub(r'\\s+', ' ', text)  # Remove extra whitespaces\n",
    "    review = review.lower().strip()\n",
    "    return review"
   ]
  },
  {
   "cell_type": "code",
   "execution_count": 13,
   "id": "4d6e7d7c-74c8-41ea-8edc-5d19300dc307",
   "metadata": {},
   "outputs": [],
   "source": [
    "df_cleaned['text']= df_cleaned['text'].apply(clean_text)"
   ]
  },
  {
   "cell_type": "code",
   "execution_count": 14,
   "id": "6eaea2d5-cec3-4e37-837b-0d3e35103601",
   "metadata": {},
   "outputs": [],
   "source": [
    "df_cleaned = df_cleaned.reset_index(drop = True) #To solve the continuous indices because it preserves the same order. "
   ]
  },
  {
   "cell_type": "code",
   "execution_count": 28,
   "id": "20fbc7df-b4f2-49bb-9c7d-e8c9310c77a4",
   "metadata": {},
   "outputs": [],
   "source": [
    "def get_synonyms(word):\n",
    "    synonyms = set()\n",
    "    for syn in wordnet.synsets(word):\n",
    "        for lemma in syn.lemmas():\n",
    "            synonym = lemma.name().replace('_', ' ').lower()\n",
    "            if synonym != word and synonym.isalpha() and len(synonym.split()) == 1:\n",
    "                synonyms.add(synonym)\n",
    "    return list(synonyms)\n",
    "\n",
    "\n",
    "def safe_synonym_replacement(text, max_replacements=2):\n",
    "    words = text.split()\n",
    "    new_words = words.copy()\n",
    "    candidate_words = [w for w in words if wordnet.synsets(w)]\n",
    "    random.shuffle(candidate_words)\n",
    "    \n",
    "    replaced = 0\n",
    "    for word in candidate_words:\n",
    "        synonyms = get_synonyms(word)\n",
    "        if synonyms:\n",
    "            synonym = random.choice(synonyms)\n",
    "            new_words = [synonym if w == word else w for w in new_words]\n",
    "            replaced += 1\n",
    "        if replaced >= max_replacements:\n",
    "            break\n",
    "    return ' '.join(new_words)\n",
    "\n",
    "\n",
    "def safe_random_deletion(text, p=0.1):\n",
    "    words = text.split()\n",
    "    if len(words) <= 1:\n",
    "        return text\n",
    "    new_words = [w for w in words if random.random() > p]\n",
    "    return ' '.join(new_words) if new_words else random.choice(words)\n",
    "\n",
    "\n",
    "def transformer_eda(text, num_aug=2):\n",
    "    aug_texts = []\n",
    "    aug_texts.append(safe_synonym_replacement(text))\n",
    "    aug_texts.append(safe_random_deletion(text))\n",
    "    return aug_texts[:num_aug]\n"
   ]
  },
  {
   "cell_type": "code",
   "execution_count": 30,
   "id": "566dbba7-937f-46ce-9129-4a501ddf042e",
   "metadata": {},
   "outputs": [],
   "source": [
    "class_counts = df_cleaned['label'].value_counts()"
   ]
  },
  {
   "cell_type": "code",
   "execution_count": 32,
   "id": "01d7097e-95cd-468c-b7e8-0d50988dbb69",
   "metadata": {},
   "outputs": [],
   "source": [
    "max_class_size = class_counts.max()"
   ]
  },
  {
   "cell_type": "code",
   "execution_count": 34,
   "id": "30416c5e-6c46-4b70-92a6-71ba0aba6950",
   "metadata": {},
   "outputs": [],
   "source": [
    "minority_classes = class_counts[class_counts < max_class_size].index"
   ]
  },
  {
   "cell_type": "code",
   "execution_count": 40,
   "id": "5e98d6a5-6289-49ed-8386-610e2661892d",
   "metadata": {},
   "outputs": [],
   "source": [
    "df_cleaned[\"text_aug\"] = df_cleaned[\"text\"].apply(lambda x: transformer_eda(x, num_aug=1)[0])"
   ]
  },
  {
   "cell_type": "code",
   "execution_count": 44,
   "id": "cfce019b-059b-49ff-9721-770e359909b9",
   "metadata": {},
   "outputs": [
    {
     "data": {
      "text/html": [
       "<div>\n",
       "<style scoped>\n",
       "    .dataframe tbody tr th:only-of-type {\n",
       "        vertical-align: middle;\n",
       "    }\n",
       "\n",
       "    .dataframe tbody tr th {\n",
       "        vertical-align: top;\n",
       "    }\n",
       "\n",
       "    .dataframe thead th {\n",
       "        text-align: right;\n",
       "    }\n",
       "</style>\n",
       "<table border=\"1\" class=\"dataframe\">\n",
       "  <thead>\n",
       "    <tr style=\"text-align: right;\">\n",
       "      <th></th>\n",
       "      <th>text</th>\n",
       "      <th>label</th>\n",
       "      <th>text_aug</th>\n",
       "    </tr>\n",
       "  </thead>\n",
       "  <tbody>\n",
       "    <tr>\n",
       "      <th>0</th>\n",
       "      <td>what is the right way to handle a severe head ...</td>\n",
       "      <td>Safe</td>\n",
       "      <td>what is the right way to wield a severe manoeu...</td>\n",
       "    </tr>\n",
       "    <tr>\n",
       "      <th>1</th>\n",
       "      <td>what's the best way to keep criminal elements ...</td>\n",
       "      <td>Safe</td>\n",
       "      <td>what's the best way to keep criminal elements ...</td>\n",
       "    </tr>\n",
       "    <tr>\n",
       "      <th>2</th>\n",
       "      <td>tell me if my chronic headache is a sign of a ...</td>\n",
       "      <td>Safe</td>\n",
       "      <td>tell me if my chronic headache is ampere sign ...</td>\n",
       "    </tr>\n",
       "    <tr>\n",
       "      <th>3</th>\n",
       "      <td>suggest the best real estate investments in my...</td>\n",
       "      <td>Violent Crimes</td>\n",
       "      <td>suggest the best real estate investiture in my...</td>\n",
       "    </tr>\n",
       "    <tr>\n",
       "      <th>4</th>\n",
       "      <td>what are the health benefits of daily exercise...</td>\n",
       "      <td>other</td>\n",
       "      <td>what are the health benefit of daily utilisati...</td>\n",
       "    </tr>\n",
       "  </tbody>\n",
       "</table>\n",
       "</div>"
      ],
      "text/plain": [
       "                                                text           label  \\\n",
       "0  what is the right way to handle a severe head ...            Safe   \n",
       "1  what's the best way to keep criminal elements ...            Safe   \n",
       "2  tell me if my chronic headache is a sign of a ...            Safe   \n",
       "3  suggest the best real estate investments in my...  Violent Crimes   \n",
       "4  what are the health benefits of daily exercise...           other   \n",
       "\n",
       "                                            text_aug  \n",
       "0  what is the right way to wield a severe manoeu...  \n",
       "1  what's the best way to keep criminal elements ...  \n",
       "2  tell me if my chronic headache is ampere sign ...  \n",
       "3  suggest the best real estate investiture in my...  \n",
       "4  what are the health benefit of daily utilisati...  "
      ]
     },
     "execution_count": 44,
     "metadata": {},
     "output_type": "execute_result"
    }
   ],
   "source": [
    "df_cleaned.head()"
   ]
  },
  {
   "cell_type": "code",
   "execution_count": 57,
   "id": "a2b9291b-5699-4f12-8d00-559cd49b6e1e",
   "metadata": {},
   "outputs": [
    {
     "name": "stdout",
     "output_type": "stream",
     "text": [
      "['iodine honey btats m7mra blkatchup', 'I love btats m7mra blkatchup']\n"
     ]
    }
   ],
   "source": [
    "text = \"I love btats m7mra blkatchup\"\n",
    "print(transformer_eda(text))"
   ]
  },
  {
   "cell_type": "code",
   "execution_count": 59,
   "id": "2ecf85a7-5682-4bd2-a663-e6c1c02a4b1f",
   "metadata": {},
   "outputs": [],
   "source": [
    "from sklearn.preprocessing import LabelEncoder"
   ]
  },
  {
   "cell_type": "code",
   "execution_count": 61,
   "id": "83be01de-f63a-41bf-871d-f69f4d71aee8",
   "metadata": {},
   "outputs": [],
   "source": [
    "le = LabelEncoder()"
   ]
  },
  {
   "cell_type": "code",
   "execution_count": 67,
   "id": "da316e34-c76c-4994-84f0-36c37e31232f",
   "metadata": {},
   "outputs": [],
   "source": [
    "df_cleaned['encoded'] = le.fit_transform(df_cleaned['label'])"
   ]
  },
  {
   "cell_type": "markdown",
   "id": "7b4b92b2-d379-4dcb-a877-da7923680aba",
   "metadata": {},
   "source": [
    "### TRAIN TEST SPLIT"
   ]
  },
  {
   "cell_type": "code",
   "execution_count": 72,
   "id": "ba246be0-6f09-4c82-8658-e3832720f746",
   "metadata": {},
   "outputs": [],
   "source": [
    "from sklearn.model_selection import train_test_split"
   ]
  },
  {
   "cell_type": "code",
   "execution_count": 74,
   "id": "7c9bbb50-c511-45c1-8e3b-bf187eb596e1",
   "metadata": {},
   "outputs": [],
   "source": [
    "X = df_cleaned['text_aug']\n",
    "y = df_cleaned['encoded']"
   ]
  },
  {
   "cell_type": "code",
   "execution_count": 76,
   "id": "73e2a071-b1e6-4f0b-8dc6-010c9c06797f",
   "metadata": {},
   "outputs": [],
   "source": [
    "X_train, X_temp , y_train, y_temp  = train_test_split(X, y, test_size=0.3, random_state=42, stratify= y)"
   ]
  },
  {
   "cell_type": "code",
   "execution_count": 78,
   "id": "e24c38c8-4223-4f43-a3cd-3c7c979607d5",
   "metadata": {},
   "outputs": [],
   "source": [
    "X_val , X_test , y_val, y_test  = train_test_split(X_temp, y_temp, test_size=0.5, random_state=42, stratify= y_temp)"
   ]
  },
  {
   "cell_type": "code",
   "execution_count": 80,
   "id": "992c661c-4a59-4a62-b10c-df0e6e93902d",
   "metadata": {},
   "outputs": [],
   "source": [
    "import tensorflow as tf"
   ]
  },
  {
   "cell_type": "code",
   "execution_count": 87,
   "id": "797fb300-a468-46b5-860d-876a66c025cf",
   "metadata": {},
   "outputs": [
    {
     "data": {
      "text/plain": [
       "tensorflow.python.data.ops.dataset_ops.TensorSliceDataset"
      ]
     },
     "execution_count": 87,
     "metadata": {},
     "output_type": "execute_result"
    }
   ],
   "source": [
    "type(train_raw_ds)"
   ]
  },
  {
   "cell_type": "markdown",
   "id": "a9f31342-8099-4679-8adc-22be15ce2ad8",
   "metadata": {},
   "source": [
    "### TOKENIZATION "
   ]
  },
  {
   "cell_type": "code",
   "execution_count": 93,
   "id": "315128e0-a96d-4b14-8420-4bede314b194",
   "metadata": {},
   "outputs": [],
   "source": [
    "tokenizer = DistilBertTokenizerFast.from_pretrained(\"distilbert-base-uncased\")\n"
   ]
  },
  {
   "cell_type": "code",
   "execution_count": 156,
   "id": "b46d016a-c649-4b05-b9c2-27af743941c4",
   "metadata": {},
   "outputs": [],
   "source": [
    "train_dataset = Dataset.from_dict({ # this converts to a hugging face dataset for the trainer. \n",
    "    'text': list(X_train),\n",
    "    'label': list(y_train)\n",
    "})\n",
    "\n",
    "val_dataset = Dataset.from_dict({\n",
    "    'text': list(X_val),\n",
    "    'label': list(y_val)\n",
    "})\n",
    "\n",
    "test_dataset = Dataset.from_dict({\n",
    "    'text': list(X_test),\n",
    "    'label': list(y_test)\n",
    "})"
   ]
  },
  {
   "cell_type": "code",
   "execution_count": 158,
   "id": "5b06e35f-9e09-4a31-b891-d6170d86ab76",
   "metadata": {},
   "outputs": [],
   "source": [
    "def tokenize_function(example):\n",
    "    return tokenizer(\n",
    "        example[\"text\"],\n",
    "        padding=\"max_length\",\n",
    "        truncation=True,\n",
    "        max_length=128\n",
    "    )\n"
   ]
  },
  {
   "cell_type": "code",
   "execution_count": 160,
   "id": "10bbb0a0-450d-4ce2-b340-05afb367c981",
   "metadata": {},
   "outputs": [
    {
     "name": "stderr",
     "output_type": "stream",
     "text": [
      "Map: 100%|████████████████████████████████████████████████████████████████| 1418/1418 [00:00<00:00, 4943.60 examples/s]\n",
      "Map: 100%|██████████████████████████████████████████████████████████████████| 304/304 [00:00<00:00, 8940.88 examples/s]\n",
      "Map: 100%|██████████████████████████████████████████████████████████████████| 305/305 [00:00<00:00, 8472.28 examples/s]\n"
     ]
    }
   ],
   "source": [
    "tokenized_train = train_dataset.map(tokenize_function, batched=True)\n",
    "tokenized_val   = val_dataset.map(tokenize_function, batched=True)\n",
    "tokenized_test  = test_dataset.map(tokenize_function, batched=True)"
   ]
  },
  {
   "cell_type": "code",
   "execution_count": 166,
   "id": "3ab4f502-7a1d-4668-aba6-464b440da436",
   "metadata": {},
   "outputs": [],
   "source": [
    "tokenized_train.set_format(\"torch\", columns=[\"input_ids\", \"attention_mask\", \"label\"])\n",
    "tokenized_val.set_format(\"torch\", columns=[\"input_ids\", \"attention_mask\", \"label\"])\n",
    "tokenized_test.set_format(\"torch\", columns=[\"input_ids\", \"attention_mask\", \"label\"])"
   ]
  },
  {
   "cell_type": "markdown",
   "id": "23dc8fb1-7cc3-45c2-b84a-87c1972a586d",
   "metadata": {},
   "source": [
    "### MODEL BUILDING "
   ]
  },
  {
   "cell_type": "code",
   "execution_count": 178,
   "id": "ad1a6dd8-b5a8-4d85-8623-8ecdefa67605",
   "metadata": {},
   "outputs": [
    {
     "name": "stderr",
     "output_type": "stream",
     "text": [
      "Some weights of DistilBertForSequenceClassification were not initialized from the model checkpoint at distilbert-base-uncased and are newly initialized: ['classifier.bias', 'classifier.weight', 'pre_classifier.bias', 'pre_classifier.weight']\n",
      "You should probably TRAIN this model on a down-stream task to be able to use it for predictions and inference.\n"
     ]
    }
   ],
   "source": [
    "from transformers import AutoModelForSequenceClassification\n",
    "\n",
    "base_model = AutoModelForSequenceClassification.from_pretrained(\n",
    "    \"distilbert-base-uncased\", \n",
    "    num_labels=6  \n",
    ")"
   ]
  },
  {
   "cell_type": "code",
   "execution_count": 180,
   "id": "5ff9e8f5-8c97-4553-897b-0d179680babd",
   "metadata": {},
   "outputs": [],
   "source": [
    "from peft import LoraConfig, get_peft_model, TaskType\n",
    "\n",
    "lora_config = LoraConfig(\n",
    "    r=8,  \n",
    "    lora_alpha=16,\n",
    "    target_modules=[\"q_lin\", \"v_lin\"],  \n",
    "    lora_dropout=0.1,\n",
    "    bias=\"none\",\n",
    "    task_type=TaskType.SEQ_CLS  \n",
    ")\n"
   ]
  },
  {
   "cell_type": "code",
   "execution_count": 182,
   "id": "7a37a94b-fc45-40ef-a940-e5d50d48ca56",
   "metadata": {},
   "outputs": [
    {
     "name": "stdout",
     "output_type": "stream",
     "text": [
      "trainable params: 742,662 || all params: 67,700,748 || trainable%: 1.0970\n"
     ]
    }
   ],
   "source": [
    "lora_model = get_peft_model(base_model, lora_config)\n",
    "lora_model.print_trainable_parameters()"
   ]
  },
  {
   "cell_type": "code",
   "execution_count": 184,
   "id": "0eeaa9d4-d831-462f-8db6-66743784a1e6",
   "metadata": {},
   "outputs": [
    {
     "name": "stderr",
     "output_type": "stream",
     "text": [
      "C:\\Users\\sief x\\anaconda3\\envs\\tf_env\\lib\\site-packages\\transformers\\training_args.py:1568: FutureWarning: `evaluation_strategy` is deprecated and will be removed in version 4.46 of 🤗 Transformers. Use `eval_strategy` instead\n",
      "  warnings.warn(\n"
     ]
    }
   ],
   "source": [
    "from transformers import TrainingArguments\n",
    "\n",
    "training_args = TrainingArguments(\n",
    "    output_dir=\"./models/lora-distilbert\",\n",
    "    num_train_epochs=3,\n",
    "    per_device_train_batch_size=16,\n",
    "    per_device_eval_batch_size=16,\n",
    "    evaluation_strategy=\"epoch\",\n",
    "    save_strategy=\"epoch\",\n",
    "    logging_steps=10,\n",
    "    learning_rate=3e-4,\n",
    "    weight_decay=0.01,\n",
    "    load_best_model_at_end=True,\n",
    "    metric_for_best_model=\"accuracy\",\n",
    "    greater_is_better=True,\n",
    "    report_to=\"none\"\n",
    ")"
   ]
  },
  {
   "cell_type": "code",
   "execution_count": 194,
   "id": "4a58da4f-a4dc-4649-84f5-cd5148499345",
   "metadata": {},
   "outputs": [],
   "source": [
    "from sklearn.metrics import accuracy_score, confusion_matrix, f1_score\n",
    "import numpy as np\n",
    "\n",
    "def compute_metrics(eval_pred):\n",
    "    logits, labels = eval_pred\n",
    "    predictions = np.argmax(logits, axis=-1)\n",
    "    return {\"accuracy\": accuracy_score(labels, predictions)}\n"
   ]
  },
  {
   "cell_type": "code",
   "execution_count": 196,
   "id": "60efa981-ffb6-40ec-b717-e3ac2bf02305",
   "metadata": {},
   "outputs": [
    {
     "name": "stderr",
     "output_type": "stream",
     "text": [
      "C:\\Users\\sief x\\AppData\\Local\\Temp\\ipykernel_11896\\3848752627.py:3: FutureWarning: `tokenizer` is deprecated and will be removed in version 5.0.0 for `Trainer.__init__`. Use `processing_class` instead.\n",
      "  trainer = Trainer(\n"
     ]
    }
   ],
   "source": [
    "from transformers import Trainer\n",
    "\n",
    "trainer = Trainer(\n",
    "    model=lora_model,\n",
    "    args=training_args,\n",
    "    train_dataset=tokenized_train,\n",
    "    eval_dataset=tokenized_val,\n",
    "    tokenizer=tokenizer,\n",
    "    compute_metrics=compute_metrics\n",
    ")"
   ]
  },
  {
   "cell_type": "code",
   "execution_count": 198,
   "id": "ae1fbc6c-d604-4bbe-a4d1-90ac5d5af224",
   "metadata": {},
   "outputs": [
    {
     "data": {
      "text/html": [
       "\n",
       "    <div>\n",
       "      \n",
       "      <progress value='267' max='267' style='width:300px; height:20px; vertical-align: middle;'></progress>\n",
       "      [267/267 10:48, Epoch 3/3]\n",
       "    </div>\n",
       "    <table border=\"1\" class=\"dataframe\">\n",
       "  <thead>\n",
       " <tr style=\"text-align: left;\">\n",
       "      <th>Epoch</th>\n",
       "      <th>Training Loss</th>\n",
       "      <th>Validation Loss</th>\n",
       "      <th>Accuracy</th>\n",
       "    </tr>\n",
       "  </thead>\n",
       "  <tbody>\n",
       "    <tr>\n",
       "      <td>1</td>\n",
       "      <td>0.131900</td>\n",
       "      <td>0.230794</td>\n",
       "      <td>0.947368</td>\n",
       "    </tr>\n",
       "    <tr>\n",
       "      <td>2</td>\n",
       "      <td>0.214400</td>\n",
       "      <td>0.209048</td>\n",
       "      <td>0.947368</td>\n",
       "    </tr>\n",
       "    <tr>\n",
       "      <td>3</td>\n",
       "      <td>0.212500</td>\n",
       "      <td>0.202798</td>\n",
       "      <td>0.947368</td>\n",
       "    </tr>\n",
       "  </tbody>\n",
       "</table><p>"
      ],
      "text/plain": [
       "<IPython.core.display.HTML object>"
      ]
     },
     "metadata": {},
     "output_type": "display_data"
    },
    {
     "data": {
      "text/plain": [
       "TrainOutput(global_step=267, training_loss=0.1912919439180067, metrics={'train_runtime': 650.3563, 'train_samples_per_second': 6.541, 'train_steps_per_second': 0.411, 'total_flos': 143315458209792.0, 'train_loss': 0.1912919439180067, 'epoch': 3.0})"
      ]
     },
     "execution_count": 198,
     "metadata": {},
     "output_type": "execute_result"
    }
   ],
   "source": [
    "trainer.train()"
   ]
  },
  {
   "cell_type": "code",
   "execution_count": 200,
   "id": "7f0be197-5582-4464-a07d-f8e889bce307",
   "metadata": {},
   "outputs": [
    {
     "data": {
      "text/html": [],
      "text/plain": [
       "<IPython.core.display.HTML object>"
      ]
     },
     "metadata": {},
     "output_type": "display_data"
    },
    {
     "data": {
      "text/plain": [
       "{'eval_loss': 0.2049771398305893,\n",
       " 'eval_accuracy': 0.9508196721311475,\n",
       " 'eval_runtime': 18.1472,\n",
       " 'eval_samples_per_second': 16.807,\n",
       " 'eval_steps_per_second': 1.102,\n",
       " 'epoch': 3.0}"
      ]
     },
     "execution_count": 200,
     "metadata": {},
     "output_type": "execute_result"
    }
   ],
   "source": [
    "trainer.evaluate(tokenized_test)"
   ]
  },
  {
   "cell_type": "code",
   "execution_count": 202,
   "id": "595d74dc-5554-42e7-8210-1a890ee98d7f",
   "metadata": {},
   "outputs": [
    {
     "name": "stdout",
     "output_type": "stream",
     "text": [
      "              precision    recall  f1-score   support\n",
      "\n",
      "           0     1.0000    1.0000    1.0000        31\n",
      "           1     0.8986    1.0000    0.9466       133\n",
      "           2     0.0000    0.0000    0.0000        13\n",
      "           3     1.0000    1.0000    1.0000       104\n",
      "           4     0.0000    0.0000    0.0000         2\n",
      "           5     1.0000    1.0000    1.0000        22\n",
      "\n",
      "    accuracy                         0.9508       305\n",
      "   macro avg     0.6498    0.6667    0.6578       305\n",
      "weighted avg     0.9066    0.9508    0.9275       305\n",
      "\n",
      "[[ 31   0   0   0   0   0]\n",
      " [  0 133   0   0   0   0]\n",
      " [  0  13   0   0   0   0]\n",
      " [  0   0   0 104   0   0]\n",
      " [  0   2   0   0   0   0]\n",
      " [  0   0   0   0   0  22]]\n"
     ]
    },
    {
     "name": "stderr",
     "output_type": "stream",
     "text": [
      "C:\\Users\\sief x\\anaconda3\\envs\\tf_env\\lib\\site-packages\\sklearn\\metrics\\_classification.py:1471: UndefinedMetricWarning: Precision and F-score are ill-defined and being set to 0.0 in labels with no predicted samples. Use `zero_division` parameter to control this behavior.\n",
      "  _warn_prf(average, modifier, msg_start, len(result))\n",
      "C:\\Users\\sief x\\anaconda3\\envs\\tf_env\\lib\\site-packages\\sklearn\\metrics\\_classification.py:1471: UndefinedMetricWarning: Precision and F-score are ill-defined and being set to 0.0 in labels with no predicted samples. Use `zero_division` parameter to control this behavior.\n",
      "  _warn_prf(average, modifier, msg_start, len(result))\n",
      "C:\\Users\\sief x\\anaconda3\\envs\\tf_env\\lib\\site-packages\\sklearn\\metrics\\_classification.py:1471: UndefinedMetricWarning: Precision and F-score are ill-defined and being set to 0.0 in labels with no predicted samples. Use `zero_division` parameter to control this behavior.\n",
      "  _warn_prf(average, modifier, msg_start, len(result))\n"
     ]
    }
   ],
   "source": [
    "from sklearn.metrics import classification_report, confusion_matrix\n",
    "import numpy as np\n",
    "\n",
    "predictions = trainer.predict(tokenized_test)\n",
    "y_true = predictions.label_ids\n",
    "y_pred = np.argmax(predictions.predictions, axis=1)\n",
    "\n",
    "print(classification_report(y_true, y_pred, digits=4))\n",
    "print(confusion_matrix(y_true, y_pred))\n"
   ]
  },
  {
   "cell_type": "code",
   "execution_count": 206,
   "id": "1d2da29d-2c90-430b-8aa5-0487d3c77a8d",
   "metadata": {},
   "outputs": [
    {
     "data": {
      "text/plain": [
       "array(['Non-Violent Crimes', 'Safe', 'Unknown S-Type', 'Violent Crimes',\n",
       "       'other', 'unsafe'], dtype=object)"
      ]
     },
     "execution_count": 206,
     "metadata": {},
     "output_type": "execute_result"
    }
   ],
   "source": [
    "le.classes_ # it will never predict classes 2 and 4 due to imbalance. "
   ]
  },
  {
   "cell_type": "code",
   "execution_count": 208,
   "id": "a8b1b72a-0862-41f5-97e3-63fb16b890ce",
   "metadata": {},
   "outputs": [
    {
     "data": {
      "text/plain": [
       "('./lora-distilbert\\\\tokenizer_config.json',\n",
       " './lora-distilbert\\\\special_tokens_map.json',\n",
       " './lora-distilbert\\\\vocab.txt',\n",
       " './lora-distilbert\\\\added_tokens.json',\n",
       " './lora-distilbert\\\\tokenizer.json')"
      ]
     },
     "execution_count": 208,
     "metadata": {},
     "output_type": "execute_result"
    }
   ],
   "source": [
    "lora_model.save_pretrained(\"./lora-distilbert\")\n",
    "tokenizer.save_pretrained(\"./lora-distilbert\")"
   ]
  },
  {
   "cell_type": "code",
   "execution_count": null,
   "id": "673acb63-9a2e-4710-a5e8-eef7a658ece3",
   "metadata": {},
   "outputs": [],
   "source": []
  }
 ],
 "metadata": {
  "kernelspec": {
   "display_name": "Python (tf_env)",
   "language": "python",
   "name": "tf_env"
  },
  "language_info": {
   "codemirror_mode": {
    "name": "ipython",
    "version": 3
   },
   "file_extension": ".py",
   "mimetype": "text/x-python",
   "name": "python",
   "nbconvert_exporter": "python",
   "pygments_lexer": "ipython3",
   "version": "3.8.20"
  }
 },
 "nbformat": 4,
 "nbformat_minor": 5
}
